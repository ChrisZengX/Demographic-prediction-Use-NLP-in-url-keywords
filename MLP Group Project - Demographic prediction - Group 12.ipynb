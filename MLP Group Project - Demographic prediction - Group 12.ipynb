{
 "cells": [
  {
   "cell_type": "code",
   "execution_count": 1,
   "metadata": {},
   "outputs": [],
   "source": [
    "import numpy as np\n",
    "import pandas as pd\n",
    "import nltk\n",
    "from nltk.corpus import stopwords\n",
    "from nltk.stem.porter import PorterStemmer\n",
    "from sklearn.model_selection import train_test_split\n",
    "from sklearn.feature_extraction.text import TfidfVectorizer\n",
    "from sklearn.metrics import accuracy_score, confusion_matrix, classification_report, plot_roc_curve\n",
    "import matplotlib.pyplot as plt\n",
    "#import string\n",
    "#punc=string.punctuation"
   ]
  },
  {
   "cell_type": "code",
   "execution_count": 2,
   "metadata": {},
   "outputs": [
    {
     "data": {
      "text/html": [
       "<div>\n",
       "<style scoped>\n",
       "    .dataframe tbody tr th:only-of-type {\n",
       "        vertical-align: middle;\n",
       "    }\n",
       "\n",
       "    .dataframe tbody tr th {\n",
       "        vertical-align: top;\n",
       "    }\n",
       "\n",
       "    .dataframe thead th {\n",
       "        text-align: right;\n",
       "    }\n",
       "</style>\n",
       "<table border=\"1\" class=\"dataframe\">\n",
       "  <thead>\n",
       "    <tr style=\"text-align: right;\">\n",
       "      <th></th>\n",
       "      <th>ID</th>\n",
       "      <th>keywords</th>\n",
       "      <th>age</th>\n",
       "      <th>sex</th>\n",
       "    </tr>\n",
       "  </thead>\n",
       "  <tbody>\n",
       "    <tr>\n",
       "      <td>0</td>\n",
       "      <td>1</td>\n",
       "      <td>fibre:16;quoi:1;dangers:1;combien:1;hightech:1...</td>\n",
       "      <td>62</td>\n",
       "      <td>F</td>\n",
       "    </tr>\n",
       "    <tr>\n",
       "      <td>1</td>\n",
       "      <td>2</td>\n",
       "      <td>restaurant:1;marrakech.shtml:1</td>\n",
       "      <td>35</td>\n",
       "      <td>M</td>\n",
       "    </tr>\n",
       "    <tr>\n",
       "      <td>2</td>\n",
       "      <td>3</td>\n",
       "      <td>payer:1;faq:1;taxe:1;habitation:1;macron:1;qui...</td>\n",
       "      <td>45</td>\n",
       "      <td>F</td>\n",
       "    </tr>\n",
       "    <tr>\n",
       "      <td>3</td>\n",
       "      <td>4</td>\n",
       "      <td>rigaud:3;laurent:3;photo:11;profile:8;photopro...</td>\n",
       "      <td>46</td>\n",
       "      <td>F</td>\n",
       "    </tr>\n",
       "    <tr>\n",
       "      <td>4</td>\n",
       "      <td>5</td>\n",
       "      <td>societe:1;disparition:1;proche:1;m%c3%a9lanie....</td>\n",
       "      <td>42</td>\n",
       "      <td>F</td>\n",
       "    </tr>\n",
       "    <tr>\n",
       "      <td>...</td>\n",
       "      <td>...</td>\n",
       "      <td>...</td>\n",
       "      <td>...</td>\n",
       "      <td>...</td>\n",
       "    </tr>\n",
       "    <tr>\n",
       "      <td>7265047</td>\n",
       "      <td>88783</td>\n",
       "      <td>suspect:2;scan:1;nouveau:1;femme:1;enlever:1;d...</td>\n",
       "      <td>30</td>\n",
       "      <td>F</td>\n",
       "    </tr>\n",
       "    <tr>\n",
       "      <td>7265048</td>\n",
       "      <td>340216</td>\n",
       "      <td>figaro:1</td>\n",
       "      <td>68</td>\n",
       "      <td>M</td>\n",
       "    </tr>\n",
       "    <tr>\n",
       "      <td>7265051</td>\n",
       "      <td>1318039</td>\n",
       "      <td>courte:2;bombee:1;coiff:3;oreal:3;tendances:28...</td>\n",
       "      <td>69</td>\n",
       "      <td>F</td>\n",
       "    </tr>\n",
       "    <tr>\n",
       "      <td>7265053</td>\n",
       "      <td>340230</td>\n",
       "      <td>dictionnaire:1;disparition:2;reussite:1;vue:2;...</td>\n",
       "      <td>21</td>\n",
       "      <td>M</td>\n",
       "    </tr>\n",
       "    <tr>\n",
       "      <td>7265054</td>\n",
       "      <td>1752401</td>\n",
       "      <td>gonfreville:1;pas:1;article:1;marche:1;poste:1...</td>\n",
       "      <td>31</td>\n",
       "      <td>M</td>\n",
       "    </tr>\n",
       "  </tbody>\n",
       "</table>\n",
       "<p>6418659 rows × 4 columns</p>\n",
       "</div>"
      ],
      "text/plain": [
       "              ID                                           keywords  age sex\n",
       "0              1  fibre:16;quoi:1;dangers:1;combien:1;hightech:1...   62   F\n",
       "1              2                     restaurant:1;marrakech.shtml:1   35   M\n",
       "2              3  payer:1;faq:1;taxe:1;habitation:1;macron:1;qui...   45   F\n",
       "3              4  rigaud:3;laurent:3;photo:11;profile:8;photopro...   46   F\n",
       "4              5  societe:1;disparition:1;proche:1;m%c3%a9lanie....   42   F\n",
       "...          ...                                                ...  ...  ..\n",
       "7265047    88783  suspect:2;scan:1;nouveau:1;femme:1;enlever:1;d...   30   F\n",
       "7265048   340216                                           figaro:1   68   M\n",
       "7265051  1318039  courte:2;bombee:1;coiff:3;oreal:3;tendances:28...   69   F\n",
       "7265053   340230  dictionnaire:1;disparition:2;reussite:1;vue:2;...   21   M\n",
       "7265054  1752401  gonfreville:1;pas:1;article:1;marche:1;poste:1...   31   M\n",
       "\n",
       "[6418659 rows x 4 columns]"
      ]
     },
     "execution_count": 2,
     "metadata": {},
     "output_type": "execute_result"
    }
   ],
   "source": [
    "df=pd.read_csv(\"train.csv\")\n",
    "df.dropna(inplace=True)\n",
    "df"
   ]
  },
  {
   "cell_type": "code",
   "execution_count": 3,
   "metadata": {},
   "outputs": [],
   "source": [
    "df[\"sex\"]=df[\"sex\"].replace(\"M\",1)\n",
    "df[\"sex\"]=df[\"sex\"].replace(\"F\",0)"
   ]
  },
  {
   "cell_type": "markdown",
   "metadata": {},
   "source": [
    "# CLEAN TRAIN\n",
    "Segmentation(count format to words format), Cleaning(clean stop_words) & Normalization (apply porter stem etc.)  \n",
    "(We've tried clean the punctuations and numerical words in keywords, but it shows less accuracy in result so we don't use it.)  \n",
    "(There are repeated ID in the dataset, but as all the data is daily based include the test file, some ID has the data of over 2200 days and most of them only has 1-2 days, we don't want influence the model through visiting frenquency, so we decide not aggregate the data by ID)"
   ]
  },
  {
   "cell_type": "code",
   "execution_count": 5,
   "metadata": {},
   "outputs": [],
   "source": [
    "stop_words = stopwords.words()\n",
    "porter = PorterStemmer()\n",
    "def cleantext(counttext):\n",
    "    wordcounts=counttext.split(\";\")\n",
    "    text=\"\"\n",
    "    for words in wordcounts:\n",
    "        wordocr=words.split(\":\")\n",
    "        if len(wordocr)>1 and not wordocr[0] in stop_words :\n",
    "            wordocr[0]=porter.stem(wordocr[0])\n",
    "            text+=(wordocr[0]+\" \")*int(wordocr[1])\n",
    "    return text"
   ]
  },
  {
   "cell_type": "code",
   "execution_count": 6,
   "metadata": {},
   "outputs": [],
   "source": [
    "df=df[df[\"keywords\"].str.contains(\":\")]"
   ]
  },
  {
   "cell_type": "code",
   "execution_count": 8,
   "metadata": {},
   "outputs": [],
   "source": [
    "df[\"keywords\"]=df[\"keywords\"].map(lambda x: cleantext(x))"
   ]
  },
  {
   "cell_type": "code",
   "execution_count": 9,
   "metadata": {},
   "outputs": [],
   "source": [
    "df.dropna(inplace=True)\n",
    "df.to_csv(\"train_clean.csv\",index=False,sep=',')"
   ]
  },
  {
   "cell_type": "code",
   "execution_count": 10,
   "metadata": {},
   "outputs": [
    {
     "data": {
      "text/html": [
       "<div>\n",
       "<style scoped>\n",
       "    .dataframe tbody tr th:only-of-type {\n",
       "        vertical-align: middle;\n",
       "    }\n",
       "\n",
       "    .dataframe tbody tr th {\n",
       "        vertical-align: top;\n",
       "    }\n",
       "\n",
       "    .dataframe thead th {\n",
       "        text-align: right;\n",
       "    }\n",
       "</style>\n",
       "<table border=\"1\" class=\"dataframe\">\n",
       "  <thead>\n",
       "    <tr style=\"text-align: right;\">\n",
       "      <th></th>\n",
       "      <th>ID</th>\n",
       "      <th>keywords</th>\n",
       "      <th>age</th>\n",
       "      <th>sex</th>\n",
       "    </tr>\n",
       "  </thead>\n",
       "  <tbody>\n",
       "    <tr>\n",
       "      <td>0</td>\n",
       "      <td>1</td>\n",
       "      <td>fibr fibr fibr fibr fibr fibr fibr fibr fibr f...</td>\n",
       "      <td>62</td>\n",
       "      <td>0</td>\n",
       "    </tr>\n",
       "    <tr>\n",
       "      <td>1</td>\n",
       "      <td>2</td>\n",
       "      <td>restaur marrakech.shtml</td>\n",
       "      <td>35</td>\n",
       "      <td>1</td>\n",
       "    </tr>\n",
       "    <tr>\n",
       "      <td>2</td>\n",
       "      <td>3</td>\n",
       "      <td>payer faq tax habit macron detail programm</td>\n",
       "      <td>45</td>\n",
       "      <td>0</td>\n",
       "    </tr>\n",
       "    <tr>\n",
       "      <td>3</td>\n",
       "      <td>4</td>\n",
       "      <td>rigaud rigaud rigaud laurent laurent laurent p...</td>\n",
       "      <td>46</td>\n",
       "      <td>0</td>\n",
       "    </tr>\n",
       "    <tr>\n",
       "      <td>4</td>\n",
       "      <td>5</td>\n",
       "      <td>societ disparit proch m%c3%a9lanie.gonidec mae...</td>\n",
       "      <td>42</td>\n",
       "      <td>0</td>\n",
       "    </tr>\n",
       "    <tr>\n",
       "      <td>5</td>\n",
       "      <td>6</td>\n",
       "      <td>port prive conso mer enfant ciel 28a86c911c0f ...</td>\n",
       "      <td>49</td>\n",
       "      <td>0</td>\n",
       "    </tr>\n",
       "    <tr>\n",
       "      <td>6</td>\n",
       "      <td>8</td>\n",
       "      <td>lapost forum mobil affich forfait consult</td>\n",
       "      <td>47</td>\n",
       "      <td>0</td>\n",
       "    </tr>\n",
       "    <tr>\n",
       "      <td>7</td>\n",
       "      <td>9</td>\n",
       "      <td>locat preavi moi faq model depart</td>\n",
       "      <td>52</td>\n",
       "      <td>1</td>\n",
       "    </tr>\n",
       "    <tr>\n",
       "      <td>8</td>\n",
       "      <td>12</td>\n",
       "      <td>iphon homm vue deuxiem internet gard disparit ...</td>\n",
       "      <td>49</td>\n",
       "      <td>0</td>\n",
       "    </tr>\n",
       "    <tr>\n",
       "      <td>9</td>\n",
       "      <td>15</td>\n",
       "      <td>p1_1697208 metr jcm prix immmobili record bat ...</td>\n",
       "      <td>65</td>\n",
       "      <td>0</td>\n",
       "    </tr>\n",
       "  </tbody>\n",
       "</table>\n",
       "</div>"
      ],
      "text/plain": [
       "   ID                                           keywords  age  sex\n",
       "0   1  fibr fibr fibr fibr fibr fibr fibr fibr fibr f...   62    0\n",
       "1   2                           restaur marrakech.shtml    35    1\n",
       "2   3        payer faq tax habit macron detail programm    45    0\n",
       "3   4  rigaud rigaud rigaud laurent laurent laurent p...   46    0\n",
       "4   5  societ disparit proch m%c3%a9lanie.gonidec mae...   42    0\n",
       "5   6  port prive conso mer enfant ciel 28a86c911c0f ...   49    0\n",
       "6   8         lapost forum mobil affich forfait consult    47    0\n",
       "7   9                 locat preavi moi faq model depart    52    1\n",
       "8  12  iphon homm vue deuxiem internet gard disparit ...   49    0\n",
       "9  15  p1_1697208 metr jcm prix immmobili record bat ...   65    0"
      ]
     },
     "execution_count": 10,
     "metadata": {},
     "output_type": "execute_result"
    }
   ],
   "source": [
    "df.head(10)"
   ]
  },
  {
   "cell_type": "markdown",
   "metadata": {},
   "source": [
    "# CLEAN TEST \n",
    "Segmentation, Cleaning & Normalization (there is no repeated ID in test data)"
   ]
  },
  {
   "cell_type": "code",
   "execution_count": 11,
   "metadata": {},
   "outputs": [],
   "source": [
    "test=pd.read_csv(\"test.csv\")  # 311M original\n",
    "test.dropna(subset=[\"keywords\"], inplace=True) # 285M rows after dropna in keywords\n",
    "test=test[test[\"keywords\"].str.contains(\":\")] #only 7 rows lost in this filter"
   ]
  },
  {
   "cell_type": "code",
   "execution_count": 12,
   "metadata": {},
   "outputs": [],
   "source": [
    "test[\"keywords\"]=test[\"keywords\"].map(lambda x: cleantext(x))"
   ]
  },
  {
   "cell_type": "code",
   "execution_count": 13,
   "metadata": {},
   "outputs": [],
   "source": [
    "test.dropna(subset=[\"keywords\"], inplace=True)\n",
    "test.to_csv(\"test_clean.csv\",index=False,sep=',')"
   ]
  },
  {
   "cell_type": "markdown",
   "metadata": {},
   "source": [
    "# Apply TfidfVectorizer "
   ]
  },
  {
   "cell_type": "code",
   "execution_count": 14,
   "metadata": {},
   "outputs": [],
   "source": [
    "df=pd.read_csv(\"train_clean.csv\")\n",
    "test=pd.read_csv(\"test_clean.csv\")"
   ]
  },
  {
   "cell_type": "code",
   "execution_count": 4,
   "metadata": {},
   "outputs": [
    {
     "name": "stdout",
     "output_type": "stream",
     "text": [
      "(5134916,)\n",
      "(1283730,)\n",
      "(5134916,)\n",
      "(1283730,)\n",
      "(5134916,)\n",
      "(1283730,)\n"
     ]
    }
   ],
   "source": [
    "X_train,X_test,y_train,y_test,z_train,z_test = train_test_split(df[\"keywords\"],df[\"sex\"],df[\"age\"], test_size = 0.2, random_state = 42)\n",
    "print(X_train.shape)\n",
    "print(X_test.shape)\n",
    "print(y_train.shape)\n",
    "print(y_test.shape)\n",
    "print(z_train.shape)\n",
    "print(z_test.shape)"
   ]
  },
  {
   "cell_type": "code",
   "execution_count": 5,
   "metadata": {},
   "outputs": [
    {
     "data": {
      "text/plain": [
       "TfidfVectorizer(analyzer='word', binary=False, decode_error='strict',\n",
       "                dtype=<class 'numpy.float64'>, encoding='utf-8',\n",
       "                input='content', lowercase=True, max_df=1.0, max_features=None,\n",
       "                min_df=1, ngram_range=(1, 1), norm='l2', preprocessor=None,\n",
       "                smooth_idf=True, stop_words=None, strip_accents=None,\n",
       "                sublinear_tf=False, token_pattern='(?u)\\\\b\\\\w\\\\w+\\\\b',\n",
       "                tokenizer=None, use_idf=True, vocabulary=None)"
      ]
     },
     "execution_count": 5,
     "metadata": {},
     "output_type": "execute_result"
    }
   ],
   "source": [
    "vc_tf_idf = TfidfVectorizer()\n",
    "vc_tf_idf.fit(X_train.apply(lambda x: np.str_(x)))"
   ]
  },
  {
   "cell_type": "code",
   "execution_count": 6,
   "metadata": {},
   "outputs": [
    {
     "name": "stdout",
     "output_type": "stream",
     "text": [
      "Vocabulary size: 671719\n"
     ]
    }
   ],
   "source": [
    "print(\"Vocabulary size: {}\".format(len(vc_tf_idf.vocabulary_)))"
   ]
  },
  {
   "cell_type": "code",
   "execution_count": 7,
   "metadata": {},
   "outputs": [
    {
     "data": {
      "text/plain": [
       "(array([0, 1, 1, 1, 1, 2, 2, 2], dtype=int32),\n",
       " array([577610, 593623, 534917, 251320,  41220, 611018, 611012, 542345],\n",
       "       dtype=int32))"
      ]
     },
     "execution_count": 7,
     "metadata": {},
     "output_type": "execute_result"
    }
   ],
   "source": [
    "X_train_tf = vc_tf_idf.transform(X_train.apply(lambda x: np.str_(x)))\n",
    "X_train_tf[:3].nonzero()"
   ]
  },
  {
   "cell_type": "markdown",
   "metadata": {},
   "source": [
    "# Build model for \"Sex\" and store result\n",
    "3 models are tried: MultinomialNB, Logistic regression and Random forest classifier, and we finally chose Logistic Regression model as it has the best AUC and accuracy."
   ]
  },
  {
   "cell_type": "code",
   "execution_count": 16,
   "metadata": {},
   "outputs": [
    {
     "data": {
      "text/plain": [
       "MultinomialNB(alpha=1.0, class_prior=None, fit_prior=True)"
      ]
     },
     "execution_count": 16,
     "metadata": {},
     "output_type": "execute_result"
    }
   ],
   "source": [
    "from sklearn.naive_bayes import MultinomialNB\n",
    "mnb = MultinomialNB()\n",
    "mnb.fit(X_train_tf,y_train)"
   ]
  },
  {
   "cell_type": "code",
   "execution_count": 17,
   "metadata": {},
   "outputs": [
    {
     "data": {
      "text/plain": [
       "LogisticRegression(C=1.0, class_weight=None, dual=False, fit_intercept=True,\n",
       "                   intercept_scaling=1, l1_ratio=None, max_iter=10000,\n",
       "                   multi_class='auto', n_jobs=None, penalty='l2',\n",
       "                   random_state=None, solver='lbfgs', tol=0.0001, verbose=0,\n",
       "                   warm_start=False)"
      ]
     },
     "execution_count": 17,
     "metadata": {},
     "output_type": "execute_result"
    }
   ],
   "source": [
    "from sklearn.linear_model import LogisticRegression\n",
    "logreg = LogisticRegression(max_iter=10000)\n",
    "logreg.fit(X_train_tf,y_train)"
   ]
  },
  {
   "cell_type": "code",
   "execution_count": 18,
   "metadata": {},
   "outputs": [
    {
     "data": {
      "text/plain": [
       "RandomForestClassifier(bootstrap=True, ccp_alpha=0.0, class_weight=None,\n",
       "                       criterion='gini', max_depth=8, max_features='auto',\n",
       "                       max_leaf_nodes=None, max_samples=None,\n",
       "                       min_impurity_decrease=0.0, min_impurity_split=None,\n",
       "                       min_samples_leaf=1, min_samples_split=2,\n",
       "                       min_weight_fraction_leaf=0.0, n_estimators=2000,\n",
       "                       n_jobs=None, oob_score=False, random_state=None,\n",
       "                       verbose=0, warm_start=False)"
      ]
     },
     "execution_count": 18,
     "metadata": {},
     "output_type": "execute_result"
    }
   ],
   "source": [
    "from sklearn.ensemble import RandomForestClassifier\n",
    "rfc= RandomForestClassifier(n_estimators=2000,max_depth=8)\n",
    "rfc.fit(X_train_tf,y_train)"
   ]
  },
  {
   "cell_type": "code",
   "execution_count": 8,
   "metadata": {},
   "outputs": [],
   "source": [
    "X_test_tf = vc_tf_idf.transform(X_test.apply(lambda x: np.str_(x)))"
   ]
  },
  {
   "cell_type": "code",
   "execution_count": 20,
   "metadata": {},
   "outputs": [],
   "source": [
    "predictionsex = dict()\n",
    "predictionsex[\"mnb\"] = mnb.predict(X_test_tf)\n",
    "predictionsex[\"logreg\"] = logreg.predict(X_test_tf)\n",
    "predictionsex[\"rfc\"] = rfc.predict(X_test_tf)"
   ]
  },
  {
   "cell_type": "code",
   "execution_count": 22,
   "metadata": {},
   "outputs": [
    {
     "name": "stdout",
     "output_type": "stream",
     "text": [
      "              precision    recall  f1-score   support\n",
      "\n",
      "           0       0.61      0.48      0.54    595690\n",
      "           1       0.62      0.73      0.67    688011\n",
      "\n",
      "    accuracy                           0.62   1283701\n",
      "   macro avg       0.62      0.61      0.61   1283701\n",
      "weighted avg       0.62      0.62      0.61   1283701\n",
      "\n"
     ]
    }
   ],
   "source": [
    "print(classification_report(y_test,predictionsex[\"mnb\"]))\n",
    "#Test result on MultinomialNB"
   ]
  },
  {
   "cell_type": "code",
   "execution_count": 23,
   "metadata": {},
   "outputs": [
    {
     "name": "stdout",
     "output_type": "stream",
     "text": [
      "              precision    recall  f1-score   support\n",
      "\n",
      "           0       0.61      0.51      0.55    595690\n",
      "           1       0.63      0.72      0.67    688011\n",
      "\n",
      "    accuracy                           0.62   1283701\n",
      "   macro avg       0.62      0.61      0.61   1283701\n",
      "weighted avg       0.62      0.62      0.62   1283701\n",
      "\n"
     ]
    }
   ],
   "source": [
    "print(classification_report(y_test,predictionsex[\"logreg\"]))\n",
    "#Test result on LogisticRegression"
   ]
  },
  {
   "cell_type": "code",
   "execution_count": 24,
   "metadata": {},
   "outputs": [
    {
     "name": "stdout",
     "output_type": "stream",
     "text": [
      "              precision    recall  f1-score   support\n",
      "\n",
      "           0       0.84      0.04      0.08    595690\n",
      "           1       0.54      0.99      0.70    688011\n",
      "\n",
      "    accuracy                           0.55   1283701\n",
      "   macro avg       0.69      0.52      0.39   1283701\n",
      "weighted avg       0.68      0.55      0.41   1283701\n",
      "\n"
     ]
    }
   ],
   "source": [
    "print(classification_report(y_test,predictionsex[\"rfc\"]))\n",
    "#Test result on Randomforest Classifier"
   ]
  },
  {
   "cell_type": "code",
   "execution_count": 27,
   "metadata": {},
   "outputs": [
    {
     "data": {
      "text/plain": [
       "0.6223637747419376"
      ]
     },
     "execution_count": 27,
     "metadata": {},
     "output_type": "execute_result"
    }
   ],
   "source": [
    "accuracy_score(y_test,predictionsex[\"logreg\"])\n",
    "#Logistic regression has the best accuracy"
   ]
  },
  {
   "cell_type": "code",
   "execution_count": 28,
   "metadata": {},
   "outputs": [
    {
     "data": {
      "image/png": "[encoded data removed]",
      "text/plain": [
       "<Figure size 432x288 with 1 Axes>"
      ]
     },
     "metadata": {
      "needs_background": "light"
     },
     "output_type": "display_data"
    }
   ],
   "source": [
    "ax = plt.gca()\n",
    "test_rf = plot_roc_curve(logreg, X_test_tf, y_test,ax=ax, alpha=0.8, name=\"test\")\n",
    "train_rf = plot_roc_curve(logreg,X_train_tf, y_train,ax=ax, alpha=0.8, name=\"train\")\n",
    "plt.show()\n",
    "#AUC curve for Logistic Regression"
   ]
  },
  {
   "cell_type": "code",
   "execution_count": 47,
   "metadata": {},
   "outputs": [
    {
     "data": {
      "image/png": "[encoded data removed]",
      "text/plain": [
       "<Figure size 432x288 with 1 Axes>"
      ]
     },
     "metadata": {
      "needs_background": "light"
     },
     "output_type": "display_data"
    }
   ],
   "source": [
    "ax = plt.gca()\n",
    "test_rf = plot_roc_curve(mnb, X_test_tf, y_test,ax=ax, alpha=0.8, name=\"test\")\n",
    "train_rf = plot_roc_curve(mnb,X_train_tf, y_train,ax=ax, alpha=0.8, name=\"train\")\n",
    "plt.show()\n",
    "#AUC curve for MultinomialNB"
   ]
  },
  {
   "cell_type": "code",
   "execution_count": 48,
   "metadata": {},
   "outputs": [
    {
     "data": {
      "image/png": "[encoded data removed]",
      "text/plain": [
       "<Figure size 432x288 with 1 Axes>"
      ]
     },
     "metadata": {
      "needs_background": "light"
     },
     "output_type": "display_data"
    }
   ],
   "source": [
    "ax = plt.gca()\n",
    "test_rf = plot_roc_curve(rfc, X_test_tf, y_test,ax=ax, alpha=0.8, name=\"test\")\n",
    "train_rf = plot_roc_curve(rfc,X_train_tf, y_train,ax=ax, alpha=0.8, name=\"train\")\n",
    "plt.show()\n",
    "#AUC curve for RandomForest Classifier"
   ]
  },
  {
   "cell_type": "code",
   "execution_count": 29,
   "metadata": {},
   "outputs": [],
   "source": [
    "X_test_final = vc_tf_idf.transform(test[\"keywords\"].apply(lambda x: np.str_(x)))"
   ]
  },
  {
   "cell_type": "code",
   "execution_count": 42,
   "metadata": {},
   "outputs": [],
   "source": [
    "result=pd.DataFrame()\n",
    "result[\"ID\"]=test[\"ID\"]\n",
    "result[\"sex_pred\"]=logreg.predict(X_test_final)"
   ]
  },
  {
   "cell_type": "code",
   "execution_count": null,
   "metadata": {},
   "outputs": [],
   "source": [
    "result[\"sex_pred\"]=result[\"sex_pred\"].replace(1, \"M\")\n",
    "result[\"sex_pred\"]=result[\"sex_pred\"].replace(0, \"F\")"
   ]
  },
  {
   "cell_type": "code",
   "execution_count": 3,
   "metadata": {},
   "outputs": [],
   "source": [
    "result.to_csv(\"test_result.csv\",index=False,sep=',')"
   ]
  },
  {
   "cell_type": "markdown",
   "metadata": {},
   "source": [
    "# Build model for \"Age\" and store results\n",
    "Compare to 6 other regressors that we have tried with a small dataset with 50K of rows.   \n",
    "SGD regressor has the best performance in test.   \n",
    "6 other regressors are: Logistic Regression, Linear Regression, multinomialNB, Random Forest Regressor, Adabooster Regressor, and Gradientboosting Regressor.   \n",
    "So for the whole dataset, we only apply SGD regressor to save time."
   ]
  },
  {
   "cell_type": "code",
   "execution_count": 9,
   "metadata": {},
   "outputs": [
    {
     "data": {
      "text/plain": [
       "SGDRegressor(alpha=1e-05, average=False, early_stopping=False, epsilon=0.1,\n",
       "             eta0=0.01, fit_intercept=True, l1_ratio=0.15,\n",
       "             learning_rate='invscaling', loss='squared_loss', max_iter=10000,\n",
       "             n_iter_no_change=5, penalty='l2', power_t=0.25, random_state=42,\n",
       "             shuffle=True, tol=0.001, validation_fraction=0.1, verbose=0,\n",
       "             warm_start=False)"
      ]
     },
     "execution_count": 9,
     "metadata": {},
     "output_type": "execute_result"
    }
   ],
   "source": [
    "from sklearn.linear_model import SGDRegressor\n",
    "sgd = SGDRegressor(alpha=0.00001,max_iter=10000,random_state=42)\n",
    "sgd.fit(X_train_tf,z_train)"
   ]
  },
  {
   "cell_type": "code",
   "execution_count": 32,
   "metadata": {},
   "outputs": [
    {
     "name": "stdout",
     "output_type": "stream",
     "text": [
      "Mean square error:154.2213\n",
      "Mean absolute error:9.9452\n",
      "R square:  10.63%\n"
     ]
    }
   ],
   "source": [
    "from sklearn.metrics import mean_squared_error \n",
    "from sklearn.metrics import mean_absolute_error\n",
    "from sklearn.metrics import r2_score\n",
    "predictionage = dict()\n",
    "predictionage[\"sgd\"] = sgd.predict(X_test_tf)\n",
    "print(\"Mean square error:%.4f\"%(mean_squared_error(z_test,predictionage[\"sgd\"])))\n",
    "print(\"Mean absolute error:%.4f\"%(mean_absolute_error(z_test,predictionage[\"sgd\"])))\n",
    "print(\"R square: \", '{:.2%}'.format(r2_score(z_test,predictionage[\"sgd\"])))"
   ]
  },
  {
   "cell_type": "code",
   "execution_count": 19,
   "metadata": {},
   "outputs": [
    {
     "name": "stdout",
     "output_type": "stream",
     "text": [
      "              precision    recall  f1-score   support\n",
      "\n",
      "        10.0       0.00      0.00      0.00      2702\n",
      "        20.0       0.00      0.00      0.00     67313\n",
      "        30.0       0.33      0.01      0.01    180655\n",
      "        40.0       0.36      0.55      0.44    375832\n",
      "        50.0       0.26      0.56      0.36    320030\n",
      "        60.0       0.31      0.04      0.07    223000\n",
      "        70.0       0.26      0.00      0.00    100490\n",
      "        80.0       0.00      0.00      0.00     12719\n",
      "        90.0       0.00      0.00      0.00       902\n",
      "       100.0       0.00      0.00      0.00        87\n",
      "\n",
      "    accuracy                           0.31   1283730\n",
      "   macro avg       0.15      0.12      0.09   1283730\n",
      "weighted avg       0.29      0.31      0.23   1283730\n",
      "\n"
     ]
    }
   ],
   "source": [
    "print(classification_report(np.floor((z_test+5)/10)*10,np.floor((predictionage[\"sgd\"]+5)/10)*10))\n",
    "# 10 stands for age group between 5-15, 20 stands for age group between 15-25 and so on"
   ]
  },
  {
   "cell_type": "code",
   "execution_count": 27,
   "metadata": {},
   "outputs": [
    {
     "name": "stdout",
     "output_type": "stream",
     "text": [
      "1 stands for the precision rate of the whole test data\n",
      "0    0.691173\n",
      "1    0.308827\n",
      "Name: age, dtype: float64\n"
     ]
    }
   ],
   "source": [
    "predictionage[\"dif\"]=predictionage[\"sgd\"]-z_test\n",
    "predictionage[\"dif\"]=predictionage[\"dif\"].map(lambda x: 0 if abs(x)>5 else 1)\n",
    "print(\"1 stands for the precision rate of the whole test data\")\n",
    "print(predictionage[\"dif\"].value_counts(1))"
   ]
  },
  {
   "cell_type": "code",
   "execution_count": 55,
   "metadata": {},
   "outputs": [],
   "source": [
    "result=pd.read_csv(\"test_result.csv\")\n",
    "result[\"age_pred\"]=sgd.predict(X_test_final)\n",
    "result.to_csv(\"test_result.csv\",index=False,sep=',')"
   ]
  },
  {
   "cell_type": "code",
   "execution_count": null,
   "metadata": {},
   "outputs": [],
   "source": []
  }
 ],
 "metadata": {
  "kernelspec": {
   "display_name": "Python 3",
   "language": "python",
   "name": "python3"
  },
  "language_info": {
   "codemirror_mode": {
    "name": "ipython",
    "version": 3
   },
   "file_extension": ".py",
   "mimetype": "text/x-python",
   "name": "python",
   "nbconvert_exporter": "python",
   "pygments_lexer": "ipython3",
   "version": "3.7.4"
  }
 },
 "nbformat": 4,
 "nbformat_minor": 2
}
